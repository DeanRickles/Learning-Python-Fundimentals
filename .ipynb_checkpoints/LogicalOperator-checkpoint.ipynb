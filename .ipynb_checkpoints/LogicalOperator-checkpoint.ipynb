{
 "cells": [
  {
   "cell_type": "code",
   "execution_count": 11,
   "id": "2d6bc37d-ecd9-46a9-8af5-e50488c3b25d",
   "metadata": {},
   "outputs": [
    {
     "name": "stdout",
     "output_type": "stream",
     "text": [
      "It's not a hot day.\n"
     ]
    }
   ],
   "source": [
    "temp = 20\n",
    "\n",
    "if temp > 30:\n",
    "    print(\"It's a hot day.\")\n",
    "elif temp < 0:\n",
    "    print(\"It's a cold day.\")\n",
    "else:\n",
    "    print(\"It's not a hot day.\")"
   ]
  }
 ],
 "metadata": {
  "kernelspec": {
   "display_name": "Python 3 (ipykernel)",
   "language": "python",
   "name": "python3"
  },
  "language_info": {
   "codemirror_mode": {
    "name": "ipython",
    "version": 3
   },
   "file_extension": ".py",
   "mimetype": "text/x-python",
   "name": "python",
   "nbconvert_exporter": "python",
   "pygments_lexer": "ipython3",
   "version": "3.9.7"
  }
 },
 "nbformat": 4,
 "nbformat_minor": 5
}
