{
 "cells": [
  {
   "cell_type": "code",
   "execution_count": 1,
   "id": "9d90d1e3-d07a-44b2-8673-1934d178a303",
   "metadata": {},
   "outputs": [],
   "source": [
    "def square(num):\n",
    "    return num * num # sqaure number calculation."
   ]
  },
  {
   "cell_type": "code",
   "execution_count": 2,
   "id": "30095f3d-ab69-4be8-ae2c-4daa48a8eaf1",
   "metadata": {},
   "outputs": [
    {
     "data": {
      "text/plain": [
       "100"
      ]
     },
     "execution_count": 2,
     "metadata": {},
     "output_type": "execute_result"
    }
   ],
   "source": [
    "square(10)"
   ]
  }
 ],
 "metadata": {
  "kernelspec": {
   "display_name": "Python 3 (ipykernel)",
   "language": "python",
   "name": "python3"
  },
  "language_info": {
   "codemirror_mode": {
    "name": "ipython",
    "version": 3
   },
   "file_extension": ".py",
   "mimetype": "text/x-python",
   "name": "python",
   "nbconvert_exporter": "python",
   "pygments_lexer": "ipython3",
   "version": "3.9.7"
  }
 },
 "nbformat": 4,
 "nbformat_minor": 5
}
