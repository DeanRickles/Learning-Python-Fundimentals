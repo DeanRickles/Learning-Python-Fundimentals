{
 "cells": [
  {
   "cell_type": "code",
   "execution_count": null,
   "id": "30d0cbc5-89ed-4632-8e61-8befb47b676d",
   "metadata": {},
   "outputs": [],
   "source": [
    "'''\n",
    "    Example is if you had a class that you need to use over or duplicate class.\n",
    "'''"
   ]
  },
  {
   "cell_type": "code",
   "execution_count": 2,
   "id": "5c052735-c4f5-4665-aa8b-eab7da2e4871",
   "metadata": {},
   "outputs": [],
   "source": [
    "# Duplication example\n",
    "class Dog:\n",
    "    def walk(self):\n",
    "             print(\"walk\")\n",
    "            \n",
    "class Cat:\n",
    "    def walk(self):\n",
    "             print(\"walk\")"
   ]
  },
  {
   "cell_type": "code",
   "execution_count": null,
   "id": "a24fa96a-5940-4e9a-82d1-c011e63da7ae",
   "metadata": {},
   "outputs": [],
   "source": [
    "'''\n",
    "    inherit a method\n",
    "'''"
   ]
  },
  {
   "cell_type": "code",
   "execution_count": null,
   "id": "d30897d9-0160-4082-89ac-ab0c0505a7a0",
   "metadata": {},
   "outputs": [],
   "source": [
    "class Mammal:\n",
    "    def walk(self):\n",
    "             print(\"walk\")\n",
    "\n",
    "\n",
    "class Dog(Mammal):\n",
    "    pass # python doesn't like an empty class. Pass = NULL.\n",
    "    \n",
    "\n",
    "class cat(Mammal):\n",
    "    pass\n",
    "\n"
   ]
  }
 ],
 "metadata": {
  "kernelspec": {
   "display_name": "Python 3 (ipykernel)",
   "language": "python",
   "name": "python3"
  },
  "language_info": {
   "codemirror_mode": {
    "name": "ipython",
    "version": 3
   },
   "file_extension": ".py",
   "mimetype": "text/x-python",
   "name": "python",
   "nbconvert_exporter": "python",
   "pygments_lexer": "ipython3",
   "version": "3.9.7"
  }
 },
 "nbformat": 4,
 "nbformat_minor": 5
}
