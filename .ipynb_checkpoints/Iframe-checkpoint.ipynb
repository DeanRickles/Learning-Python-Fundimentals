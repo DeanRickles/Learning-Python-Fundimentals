{
 "cells": [
  {
   "cell_type": "code",
   "execution_count": 1,
   "id": "1a588ad6-830a-40e3-952a-71cbfa8a192e",
   "metadata": {},
   "outputs": [],
   "source": [
    "# Required module\n",
    "from IPython.display import IFrame"
   ]
  },
  {
   "cell_type": "code",
   "execution_count": 3,
   "id": "851a34f4-101f-463c-9cd5-0b25c42fb7f9",
   "metadata": {
    "collapsed": true,
    "jupyter": {
     "outputs_hidden": true
    },
    "tags": []
   },
   "outputs": [
    {
     "data": {
      "text/html": [
       "\n",
       "        <iframe\n",
       "            width=\"100%\"\n",
       "            height=\"500px\"\n",
       "            src=\"https://zty.pe\"\n",
       "            frameborder=\"0\"\n",
       "            allowfullscreen\n",
       "            \n",
       "        ></iframe>\n",
       "        "
      ],
      "text/plain": [
       "<IPython.lib.display.IFrame at 0x1535ac423250>"
      ]
     },
     "execution_count": 3,
     "metadata": {},
     "output_type": "execute_result"
    }
   ],
   "source": [
    "# pulls url  at 100% Width and 500 pixels height.\n",
    "IFrame(src=\"https://zty.pe\", width='100%', height='500px')"
   ]
  },
  {
   "cell_type": "code",
   "execution_count": 14,
   "id": "186f1109-01ad-4ece-b175-a1f70ebf4297",
   "metadata": {},
   "outputs": [],
   "source": [
    "# pulls url  at 500 pixels Width and 750 pixels height.Perfect size window.\n",
    "data = IFrame(src=\"https://zty.pe\", width='500px', height='750px')"
   ]
  },
  {
   "cell_type": "code",
   "execution_count": 15,
   "id": "5ac15e28-211d-442c-9f96-d8c344d0c616",
   "metadata": {},
   "outputs": [
    {
     "data": {
      "text/html": [
       "\n",
       "        <iframe\n",
       "            width=\"500px\"\n",
       "            height=\"750px\"\n",
       "            src=\"https://zty.pe\"\n",
       "            frameborder=\"0\"\n",
       "            allowfullscreen\n",
       "            \n",
       "        ></iframe>\n",
       "        "
      ],
      "text/plain": [
       "<IPython.lib.display.IFrame at 0x1535ac4236d0>"
      ]
     },
     "execution_count": 15,
     "metadata": {},
     "output_type": "execute_result"
    }
   ],
   "source": [
    "# looks like it loads each Iframe as a new entity.\n",
    "data"
   ]
  }
 ],
 "metadata": {
  "kernelspec": {
   "display_name": "Python 3 (ipykernel)",
   "language": "python",
   "name": "python3"
  },
  "language_info": {
   "codemirror_mode": {
    "name": "ipython",
    "version": 3
   },
   "file_extension": ".py",
   "mimetype": "text/x-python",
   "name": "python",
   "nbconvert_exporter": "python",
   "pygments_lexer": "ipython3",
   "version": "3.9.7"
  }
 },
 "nbformat": 4,
 "nbformat_minor": 5
}
