{
 "cells": [
  {
   "cell_type": "code",
   "execution_count": 1,
   "id": "9ac95e20-e278-4c12-a2c0-c7f424808a5e",
   "metadata": {},
   "outputs": [
    {
     "data": {
      "text/plain": [
       "3"
      ]
     },
     "execution_count": 1,
     "metadata": {},
     "output_type": "execute_result"
    }
   ],
   "source": [
    "# divides showing whole number.\n",
    "10 // 3"
   ]
  },
  {
   "cell_type": "code",
   "execution_count": 2,
   "id": "cf4d9456-ac67-44d9-8ec2-ac1913d1f4fd",
   "metadata": {},
   "outputs": [
    {
     "data": {
      "text/plain": [
       "3.3333333333333335"
      ]
     },
     "execution_count": 2,
     "metadata": {},
     "output_type": "execute_result"
    }
   ],
   "source": [
    "# divides showing remainder.\n",
    "10 / 3"
   ]
  },
  {
   "cell_type": "code",
   "execution_count": 3,
   "id": "e1795f6e-d4a8-4c85-8e25-a6e9285a8a85",
   "metadata": {},
   "outputs": [
    {
     "data": {
      "text/plain": [
       "1"
      ]
     },
     "execution_count": 3,
     "metadata": {},
     "output_type": "execute_result"
    }
   ],
   "source": [
    "# divides showing only remainders\n",
    "10 % 3"
   ]
  },
  {
   "cell_type": "code",
   "execution_count": 4,
   "id": "430ae370-b585-44f9-8a40-7f72b53779d6",
   "metadata": {},
   "outputs": [
    {
     "data": {
      "text/plain": [
       "1000"
      ]
     },
     "execution_count": 4,
     "metadata": {},
     "output_type": "execute_result"
    }
   ],
   "source": [
    "# To the power of\n",
    "10 ** 3"
   ]
  },
  {
   "cell_type": "code",
   "execution_count": 6,
   "id": "c90d60e2-aad2-4f39-a0bb-d66dd45e0cde",
   "metadata": {},
   "outputs": [
    {
     "name": "stdout",
     "output_type": "stream",
     "text": [
      "13\n",
      "16\n"
     ]
    }
   ],
   "source": [
    "# Increment a number.\n",
    "x = 10\n",
    "x = x + 3 \n",
    "print(x)\n",
    "x += 3      # Same as the line above. Operator thne equals.\n",
    "print(x)"
   ]
  },
  {
   "cell_type": "code",
   "execution_count": 7,
   "id": "222d1033-e045-409a-b465-c4ea1f87875b",
   "metadata": {},
   "outputs": [
    {
     "name": "stdout",
     "output_type": "stream",
     "text": [
      "19\n",
      "39\n"
     ]
    }
   ],
   "source": [
    "# brackets\n",
    "x = 10 + 3 * 3\n",
    "print(x)\n",
    "\n",
    "x = (10 + 3) * 3\n",
    "print(x)"
   ]
  },
  {
   "cell_type": "code",
   "execution_count": 8,
   "id": "1e6dac4b-45ee-460a-b015-d1837a200fb1",
   "metadata": {},
   "outputs": [
    {
     "data": {
      "text/plain": [
       "3"
      ]
     },
     "execution_count": 8,
     "metadata": {},
     "output_type": "execute_result"
    }
   ],
   "source": [
    "# round method\n",
    "x = 2.9\n",
    "round(x)"
   ]
  },
  {
   "cell_type": "code",
   "execution_count": null,
   "id": "4a61f5dc-89cc-4d2e-9f0e-e85118cefb5b",
   "metadata": {},
   "outputs": [],
   "source": []
  }
 ],
 "metadata": {
  "kernelspec": {
   "display_name": "Python 3 (ipykernel)",
   "language": "python",
   "name": "python3"
  },
  "language_info": {
   "codemirror_mode": {
    "name": "ipython",
    "version": 3
   },
   "file_extension": ".py",
   "mimetype": "text/x-python",
   "name": "python",
   "nbconvert_exporter": "python",
   "pygments_lexer": "ipython3",
   "version": "3.9.7"
  }
 },
 "nbformat": 4,
 "nbformat_minor": 5
}
