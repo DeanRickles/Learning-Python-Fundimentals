{
 "cells": [
  {
   "cell_type": "code",
   "execution_count": 2,
   "id": "a63a92aa-209b-4ab5-948e-741dbb644e13",
   "metadata": {},
   "outputs": [
    {
     "data": {
      "text/plain": [
       "'\\nClass = New Type\\n\\nExample Types:\\n    Number\\n    String\\n    Booleans\\n    List\\n    Dictionaries\\n'"
      ]
     },
     "execution_count": 2,
     "metadata": {},
     "output_type": "execute_result"
    }
   ],
   "source": [
    "'''\n",
    "Class = New Type\n",
    "\n",
    "Example Types:\n",
    "    Number\n",
    "    String\n",
    "    Booleans\n",
    "    List\n",
    "    Dictionaries\n",
    "'''"
   ]
  },
  {
   "cell_type": "code",
   "execution_count": 4,
   "id": "22ab6fa3-c5b6-41a8-b9cf-26d052bba02a",
   "metadata": {},
   "outputs": [
    {
     "data": {
      "text/plain": [
       "list"
      ]
     },
     "execution_count": 4,
     "metadata": {},
     "output_type": "execute_result"
    }
   ],
   "source": [
    "# Example type\n",
    "\n",
    "numbers = [1,2,3]\n",
    "type(numbers)"
   ]
  },
  {
   "cell_type": "code",
   "execution_count": 8,
   "id": "dc735198-599f-49a7-8431-a178a47c47f5",
   "metadata": {},
   "outputs": [],
   "source": [
    "# Creating a Class.\n",
    "class Point:\n",
    "    def move(self):\n",
    "        print(\"move\")\n",
    "    \n",
    "    def draw(self):\n",
    "        print(\"draw\")\n"
   ]
  },
  {
   "cell_type": "code",
   "execution_count": 9,
   "id": "38e09215-4e9c-466b-bb99-fc655b1eab2e",
   "metadata": {},
   "outputs": [
    {
     "name": "stdout",
     "output_type": "stream",
     "text": [
      "draw\n"
     ]
    }
   ],
   "source": [
    "# Object\n",
    "point1 = Point()\n",
    "point1.draw()"
   ]
  },
  {
   "cell_type": "code",
   "execution_count": 13,
   "id": "71dfabd5-d1b3-4df3-9691-78543e1354cf",
   "metadata": {},
   "outputs": [
    {
     "name": "stdout",
     "output_type": "stream",
     "text": [
      "draw\n",
      "10\n"
     ]
    }
   ],
   "source": [
    "# creating Object\n",
    "point1 = Point()\n",
    "point1.x = 10 # adding attribute.\n",
    "point1.y = 20 # adding attribute.\n",
    "point1.draw()\n",
    "\n",
    "print(point1.x)"
   ]
  },
  {
   "cell_type": "code",
   "execution_count": 14,
   "id": "102a677c-4944-46e0-ac3a-b40a2950833b",
   "metadata": {},
   "outputs": [
    {
     "ename": "AttributeError",
     "evalue": "'Point' object has no attribute 'x'",
     "output_type": "error",
     "traceback": [
      "\u001b[0;31m---------------------------------------------------------------------------\u001b[0m",
      "\u001b[0;31mAttributeError\u001b[0m                            Traceback (most recent call last)",
      "\u001b[0;32m/tmp/ipykernel_780/1427448561.py\u001b[0m in \u001b[0;36m<module>\u001b[0;34m\u001b[0m\n\u001b[1;32m      1\u001b[0m \u001b[0mpoint2\u001b[0m \u001b[0;34m=\u001b[0m \u001b[0mPoint\u001b[0m\u001b[0;34m(\u001b[0m\u001b[0;34m)\u001b[0m\u001b[0;34m\u001b[0m\u001b[0;34m\u001b[0m\u001b[0m\n\u001b[0;32m----> 2\u001b[0;31m \u001b[0mpoint2\u001b[0m\u001b[0;34m.\u001b[0m\u001b[0mx\u001b[0m \u001b[0;31m# error due to no attrubute assined.\u001b[0m\u001b[0;34m\u001b[0m\u001b[0;34m\u001b[0m\u001b[0m\n\u001b[0m",
      "\u001b[0;31mAttributeError\u001b[0m: 'Point' object has no attribute 'x'"
     ]
    }
   ],
   "source": [
    "point2 = Point()\n",
    "point2.x # error due to no attrubute assined."
   ]
  },
  {
   "cell_type": "code",
   "execution_count": 15,
   "id": "12935196-4b07-4310-a851-09c94236e12e",
   "metadata": {},
   "outputs": [
    {
     "ename": "TypeError",
     "evalue": "Point() takes no arguments",
     "output_type": "error",
     "traceback": [
      "\u001b[0;31m---------------------------------------------------------------------------\u001b[0m",
      "\u001b[0;31mTypeError\u001b[0m                                 Traceback (most recent call last)",
      "\u001b[0;32m/tmp/ipykernel_780/1958218476.py\u001b[0m in \u001b[0;36m<module>\u001b[0;34m\u001b[0m\n\u001b[1;32m      1\u001b[0m \u001b[0;31m# Constructor\u001b[0m\u001b[0;34m\u001b[0m\u001b[0;34m\u001b[0m\u001b[0m\n\u001b[0;32m----> 2\u001b[0;31m \u001b[0mpoint\u001b[0m \u001b[0;34m=\u001b[0m \u001b[0mPoint\u001b[0m\u001b[0;34m(\u001b[0m\u001b[0;36m10\u001b[0m\u001b[0;34m,\u001b[0m\u001b[0;36m20\u001b[0m\u001b[0;34m)\u001b[0m\u001b[0;34m\u001b[0m\u001b[0;34m\u001b[0m\u001b[0m\n\u001b[0m",
      "\u001b[0;31mTypeError\u001b[0m: Point() takes no arguments"
     ]
    }
   ],
   "source": [
    "# Constructor\n",
    "point = Point(10,20)\n"
   ]
  },
  {
   "cell_type": "code",
   "execution_count": 17,
   "id": "b8ebc962-e890-4661-9a84-ed1e546b7ea7",
   "metadata": {},
   "outputs": [],
   "source": [
    "# Creating a Class.\n",
    "class Point:\n",
    "    def __init__(self, x, y): # self references that object in memory.\n",
    "        self.x = x # assining the x attribute.\n",
    "        self.y = y # assining the y attribute\n",
    "    def move(self):\n",
    "        print(\"move\")\n",
    "    \n",
    "    def draw(self):\n",
    "        print(\"draw\")\n"
   ]
  },
  {
   "cell_type": "code",
   "execution_count": 20,
   "id": "9eb19ff5-9d48-454d-87b7-8fea945fc392",
   "metadata": {},
   "outputs": [
    {
     "name": "stdout",
     "output_type": "stream",
     "text": [
      "10\n"
     ]
    }
   ],
   "source": [
    "# Constructor\n",
    "point = Point(10,20)\n",
    "print(point.x)"
   ]
  },
  {
   "cell_type": "code",
   "execution_count": 21,
   "id": "6d518297-6a3f-4853-80b8-a79e01e63a56",
   "metadata": {},
   "outputs": [],
   "source": [
    "'''\n",
    "Example task\n",
    "\n",
    "Person (Object)\n",
    "    Name (Attribute)\n",
    "    Talk (Attribute)\n",
    "'''"
   ]
  },
  {
   "cell_type": "code",
   "execution_count": 30,
   "id": "5396d33c-8e1c-4f67-a191-9db83b5af7df",
   "metadata": {},
   "outputs": [
    {
     "name": "stdout",
     "output_type": "stream",
     "text": [
      "John\n",
      "yes\n"
     ]
    },
    {
     "data": {
      "text/plain": [
       "'yes'"
      ]
     },
     "execution_count": 30,
     "metadata": {},
     "output_type": "execute_result"
    }
   ],
   "source": [
    "class Person:\n",
    "    def __init__(self, name, talk):\n",
    "        self.name = name\n",
    "        self.talk = talk\n",
    "    def talk(self):\n",
    "        print(\"talk\")\n",
    "    def name(self):\n",
    "        print(\"name\")\n",
    "    \n",
    "\n",
    "person = Person('John', 'yes')\n",
    "print(person.name)\n",
    "print(person.talk)\n",
    "\n",
    "# if you don't define the talk or name function it doesn't output.\n",
    "person.name\n",
    "person.talk"
   ]
  },
  {
   "cell_type": "code",
   "execution_count": 41,
   "id": "dbe2dcaf-b9d3-4ae1-bc13-fed8b1836450",
   "metadata": {},
   "outputs": [
    {
     "name": "stdout",
     "output_type": "stream",
     "text": [
      "John\n",
      "Hi, I am John\n"
     ]
    }
   ],
   "source": [
    "# further details\n",
    "class Person:\n",
    "    def __init__(self, name):\n",
    "        self.name = name\n",
    "    def talk(self):\n",
    "        print(f\"Hi, I am {self.name}\")\n",
    "\n",
    "\n",
    "person2 = Person('John')\n",
    "print(person2.name)\n",
    "\n",
    "# if you don't define the talk or name function it doesn't output.\n",
    "person2.talk()"
   ]
  },
  {
   "cell_type": "code",
   "execution_count": 43,
   "id": "0bb77de4-7563-41c6-b3ef-9c9a55da607d",
   "metadata": {},
   "outputs": [
    {
     "name": "stdout",
     "output_type": "stream",
     "text": [
      "Hi, I am Bob Smith\n"
     ]
    }
   ],
   "source": [
    "bob = Person('Bob Smith')\n",
    "bob.talk()"
   ]
  },
  {
   "cell_type": "code",
   "execution_count": null,
   "id": "fcba9a22-70e6-4886-931d-fdd6b6673f03",
   "metadata": {},
   "outputs": [],
   "source": []
  }
 ],
 "metadata": {
  "kernelspec": {
   "display_name": "Python 3 (ipykernel)",
   "language": "python",
   "name": "python3"
  },
  "language_info": {
   "codemirror_mode": {
    "name": "ipython",
    "version": 3
   },
   "file_extension": ".py",
   "mimetype": "text/x-python",
   "name": "python",
   "nbconvert_exporter": "python",
   "pygments_lexer": "ipython3",
   "version": "3.9.7"
  }
 },
 "nbformat": 4,
 "nbformat_minor": 5
}
