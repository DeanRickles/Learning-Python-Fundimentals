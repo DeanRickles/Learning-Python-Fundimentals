{
 "cells": [
  {
   "cell_type": "code",
   "execution_count": 1,
   "id": "ade7bde0-717d-4f2c-a1c1-6a9e179a705b",
   "metadata": {},
   "outputs": [],
   "source": [
    "course = 'Python for beginners'"
   ]
  },
  {
   "cell_type": "code",
   "execution_count": 2,
   "id": "9c3ea05c-410d-4f02-82e5-f028ae469375",
   "metadata": {},
   "outputs": [
    {
     "name": "stdout",
     "output_type": "stream",
     "text": [
      "20\n"
     ]
    }
   ],
   "source": [
    "# let the length of a string. \n",
    "print(len(course))"
   ]
  },
  {
   "cell_type": "code",
   "execution_count": 4,
   "id": "8f7624fd-f6ab-4eb2-b635-647b69fc4793",
   "metadata": {},
   "outputs": [],
   "source": [
    "courses = [1,2,3,4,5]"
   ]
  },
  {
   "cell_type": "code",
   "execution_count": 5,
   "id": "a5eea6c8-427b-4e31-8768-7712b0e9ace0",
   "metadata": {},
   "outputs": [
    {
     "name": "stdout",
     "output_type": "stream",
     "text": [
      "5\n"
     ]
    }
   ],
   "source": [
    "# get the number of items in array\n",
    "print(len(courses))"
   ]
  },
  {
   "cell_type": "code",
   "execution_count": 7,
   "id": "6fc50265-8e2c-4a96-9601-5e31c4be0a3c",
   "metadata": {},
   "outputs": [
    {
     "name": "stdout",
     "output_type": "stream",
     "text": [
      "PYTHON FOR BEGINNERS\n"
     ]
    }
   ],
   "source": [
    "# .upper() method creates a new string in all uppercase.\n",
    "print(course.upper())"
   ]
  },
  {
   "cell_type": "code",
   "execution_count": 8,
   "id": "3a305038-a4df-47d7-b3f4-9d7298ca7027",
   "metadata": {},
   "outputs": [
    {
     "name": "stdout",
     "output_type": "stream",
     "text": [
      "python for beginners\n"
     ]
    }
   ],
   "source": [
    "# .lower() method creaes a new string in all lowercase\n",
    "print(course.lower())"
   ]
  },
  {
   "cell_type": "code",
   "execution_count": 13,
   "id": "2aeb23ef-b704-409b-80e3-d3f75ececea1",
   "metadata": {},
   "outputs": [
    {
     "name": "stdout",
     "output_type": "stream",
     "text": [
      "4\n",
      "0\n",
      "-1\n"
     ]
    }
   ],
   "source": [
    "# find the first matching character. Case sensitive\n",
    "print(course.find('o'))\n",
    "print(course.find('P'))\n",
    "print(course.find('5')) # if nothing is found -1 = False\n"
   ]
  },
  {
   "cell_type": "code",
   "execution_count": 16,
   "id": "5849fa4f-5306-4065-b34e-c537b4bb4b1c",
   "metadata": {},
   "outputs": [
    {
     "name": "stdout",
     "output_type": "stream",
     "text": [
      "Jython for beginners\n"
     ]
    }
   ],
   "source": [
    "# Replace a string for another.\n",
    "print(course.replace('P','J'))"
   ]
  },
  {
   "cell_type": "code",
   "execution_count": 17,
   "id": "7e0f9f72-1bc4-4d43-8dec-fa30c31026c5",
   "metadata": {},
   "outputs": [
    {
     "data": {
      "text/plain": [
       "True"
      ]
     },
     "execution_count": 17,
     "metadata": {},
     "output_type": "execute_result"
    }
   ],
   "source": [
    "# Find a word in python string. using 'in' method.\n",
    "'Python' in course"
   ]
  },
  {
   "cell_type": "code",
   "execution_count": 18,
   "id": "1d39b008-4984-487d-832c-86cdfc704847",
   "metadata": {},
   "outputs": [
    {
     "data": {
      "text/plain": [
       "'Python For Beginners'"
      ]
     },
     "execution_count": 18,
     "metadata": {},
     "output_type": "execute_result"
    }
   ],
   "source": [
    "# returns each word with the first character capitalised.\n",
    "course.title()"
   ]
  }
 ],
 "metadata": {
  "kernelspec": {
   "display_name": "Python 3 (ipykernel)",
   "language": "python",
   "name": "python3"
  },
  "language_info": {
   "codemirror_mode": {
    "name": "ipython",
    "version": 3
   },
   "file_extension": ".py",
   "mimetype": "text/x-python",
   "name": "python",
   "nbconvert_exporter": "python",
   "pygments_lexer": "ipython3",
   "version": "3.9.7"
  }
 },
 "nbformat": 4,
 "nbformat_minor": 5
}
