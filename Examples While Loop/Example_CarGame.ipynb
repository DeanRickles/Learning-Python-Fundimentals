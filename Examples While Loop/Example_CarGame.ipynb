{
 "cells": [
  {
   "cell_type": "code",
   "execution_count": 1,
   "id": "5bf0d34f-a8d7-4c49-9919-4bedf54ca72f",
   "metadata": {},
   "outputs": [],
   "source": [
    "# creating a help function.\n",
    "def help():\n",
    "    print('start - to start the car.')\n",
    "    print('stop  - to stop the car.')\n",
    "    print('quit  - to exit.')"
   ]
  },
  {
   "cell_type": "code",
   "execution_count": 2,
   "id": "ef4a6882-729e-4ad9-83ae-d47134838483",
   "metadata": {
    "tags": []
   },
   "outputs": [
    {
     "name": "stdout",
     "output_type": "stream",
     "text": [
      "start - to start the car.\n",
      "stop  - to stop the car.\n",
      "quit  - to exit.\n"
     ]
    }
   ],
   "source": [
    "help()"
   ]
  },
  {
   "cell_type": "code",
   "execution_count": 5,
   "id": "a967418d-06e3-4154-975a-d8e59384a72c",
   "metadata": {},
   "outputs": [
    {
     "name": "stdin",
     "output_type": "stream",
     "text": [
      " start\n"
     ]
    },
    {
     "name": "stdout",
     "output_type": "stream",
     "text": [
      "Starting the car.\n"
     ]
    },
    {
     "name": "stdin",
     "output_type": "stream",
     "text": [
      " stop\n"
     ]
    },
    {
     "name": "stdout",
     "output_type": "stream",
     "text": [
      "Stopped the car.\n"
     ]
    },
    {
     "name": "stdin",
     "output_type": "stream",
     "text": [
      " quit\n"
     ]
    },
    {
     "name": "stdout",
     "output_type": "stream",
     "text": [
      "Exited the car.\n"
     ]
    }
   ],
   "source": [
    "# simple car game based on the help function.\n",
    "\n",
    "carQuit = 'quit' \n",
    "carStatus = ''\n",
    "while carStatus != carQuit:\n",
    "    carStatus = str(input()).lower()\n",
    "\n",
    "    if carStatus == 'help':\n",
    "        help()\n",
    "    elif carStatus == 'start':\n",
    "        print(\"Starting the car.\")\n",
    "    elif carStatus == 'stop':\n",
    "        print(\"Stopped the car.\")\n",
    "    elif carStatus == 'quit':\n",
    "        print(\"Exited the car.\")\n",
    "        break\n",
    "    else:\n",
    "        print(\"I don't understand that...\")"
   ]
  },
  {
   "cell_type": "code",
   "execution_count": 6,
   "id": "38beb52f-3980-480d-9ca1-f38e1101f9b6",
   "metadata": {},
   "outputs": [
    {
     "name": "stdin",
     "output_type": "stream",
     "text": [
      " stop\n"
     ]
    },
    {
     "name": "stdout",
     "output_type": "stream",
     "text": [
      "Stopped the car.\n"
     ]
    },
    {
     "name": "stdin",
     "output_type": "stream",
     "text": [
      " stop\n"
     ]
    },
    {
     "name": "stdout",
     "output_type": "stream",
     "text": [
      "Car is already stopped.\n"
     ]
    },
    {
     "name": "stdin",
     "output_type": "stream",
     "text": [
      " stop\n"
     ]
    },
    {
     "name": "stdout",
     "output_type": "stream",
     "text": [
      "Car is already stopped.\n"
     ]
    },
    {
     "name": "stdin",
     "output_type": "stream",
     "text": [
      " stop\n"
     ]
    },
    {
     "name": "stdout",
     "output_type": "stream",
     "text": [
      "Car is already stopped.\n"
     ]
    },
    {
     "name": "stdin",
     "output_type": "stream",
     "text": [
      " start\n"
     ]
    },
    {
     "name": "stdout",
     "output_type": "stream",
     "text": [
      "Starting the car.\n"
     ]
    },
    {
     "name": "stdin",
     "output_type": "stream",
     "text": [
      " stop\n"
     ]
    },
    {
     "name": "stdout",
     "output_type": "stream",
     "text": [
      "Stopped the car.\n"
     ]
    },
    {
     "name": "stdin",
     "output_type": "stream",
     "text": [
      " start\n"
     ]
    },
    {
     "name": "stdout",
     "output_type": "stream",
     "text": [
      "Starting the car.\n"
     ]
    },
    {
     "name": "stdin",
     "output_type": "stream",
     "text": [
      " start\n"
     ]
    },
    {
     "name": "stdout",
     "output_type": "stream",
     "text": [
      "Car is already started.\n"
     ]
    },
    {
     "name": "stdin",
     "output_type": "stream",
     "text": [
      " quit\n"
     ]
    },
    {
     "name": "stdout",
     "output_type": "stream",
     "text": [
      "Exited the car.\n"
     ]
    }
   ],
   "source": [
    "# checking state if already started or stopped.\n",
    "\n",
    "carQuit = 'quit' \n",
    "carStatus = ''\n",
    "carStatusStart = 0\n",
    "carStatusStop = 0\n",
    "while carStatus != carQuit:\n",
    "    carStatus = str(input()).lower()\n",
    "    if carStatus == 'help':\n",
    "        help()\n",
    "        \n",
    "    elif carStatus == 'start':\n",
    "        \n",
    "        if carStatusStart == 1:\n",
    "            print(\"Car is already started.\")\n",
    "        else:\n",
    "            print(\"Starting the car.\")\n",
    "            carStatusStop  = 0\n",
    "            carStatusStart = 1\n",
    "            \n",
    "    elif carStatus == 'stop':\n",
    "\n",
    "        if carStatusStop == 1:\n",
    "            print(\"Car is already stopped.\")\n",
    "        else:\n",
    "            print(\"Stopped the car.\")\n",
    "            carStatusStart = 0\n",
    "            carStatusStop  = 1\n",
    "            \n",
    "    elif carStatus == 'quit':\n",
    "        print(\"Exited the car.\")\n",
    "        break\n",
    "        \n",
    "    else:\n",
    "        print(\"I don't understand that...\")"
   ]
  }
 ],
 "metadata": {
  "kernelspec": {
   "display_name": "Python 3 (ipykernel)",
   "language": "python",
   "name": "python3"
  },
  "language_info": {
   "codemirror_mode": {
    "name": "ipython",
    "version": 3
   },
   "file_extension": ".py",
   "mimetype": "text/x-python",
   "name": "python",
   "nbconvert_exporter": "python",
   "pygments_lexer": "ipython3",
   "version": "3.9.7"
  }
 },
 "nbformat": 4,
 "nbformat_minor": 5
}
