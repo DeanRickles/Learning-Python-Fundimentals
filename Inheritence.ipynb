{
 "cells": [
  {
   "cell_type": "code",
   "execution_count": null,
   "id": "30d0cbc5-89ed-4632-8e61-8befb47b676d",
   "metadata": {},
   "outputs": [],
   "source": [
    "'''\n",
    "    Example is if you had a class that you need to use over or duplicate class.\n",
    "'''"
   ]
  },
  {
   "cell_type": "code",
   "execution_count": 2,
   "id": "5c052735-c4f5-4665-aa8b-eab7da2e4871",
   "metadata": {},
   "outputs": [],
   "source": [
    "# Duplication example\n",
    "class Dog:\n",
    "    def walk(self):\n",
    "             print(\"walk\")\n",
    "            \n",
    "class Cat:\n",
    "    def walk(self):\n",
    "             print(\"walk\")"
   ]
  },
  {
   "cell_type": "code",
   "execution_count": null,
   "id": "a24fa96a-5940-4e9a-82d1-c011e63da7ae",
   "metadata": {},
   "outputs": [],
   "source": [
    "'''\n",
    "    inherit a method\n",
    "'''"
   ]
  },
  {
   "cell_type": "code",
   "execution_count": 16,
   "id": "d30897d9-0160-4082-89ac-ab0c0505a7a0",
   "metadata": {},
   "outputs": [],
   "source": [
    "class Mammal:\n",
    "    def walk(self):\n",
    "             print(\"walk\")\n",
    "\n",
    "\n",
    "class Dog(Mammal):\n",
    "    pass # python doesn't like an empty class. Pass = NULL.\n",
    "    \n",
    "\n",
    "class Cat(Mammal):\n",
    "    pass\n"
   ]
  },
  {
   "cell_type": "code",
   "execution_count": 17,
   "id": "4179e020-c042-4d61-8f5d-9bd8220098cc",
   "metadata": {},
   "outputs": [],
   "source": [
    "dog1 = Dog()"
   ]
  },
  {
   "cell_type": "code",
   "execution_count": 18,
   "id": "d697fe9d-bbd0-4b08-a95d-68cc3df9fd87",
   "metadata": {},
   "outputs": [
    {
     "name": "stdout",
     "output_type": "stream",
     "text": [
      "walk\n"
     ]
    }
   ],
   "source": [
    "dog1.walk()"
   ]
  },
  {
   "cell_type": "code",
   "execution_count": 19,
   "id": "f84b6b5b-16d7-4593-a166-b85c76b944b3",
   "metadata": {},
   "outputs": [],
   "source": [
    "class Mammal:\n",
    "    def walk(self):\n",
    "             print(\"walk\")\n",
    "    def sound(self):\n",
    "            print('SoundHere')\n",
    "\n",
    "class Dog(Mammal):\n",
    "    pass # python doesn't like an empty class. Pass = NULL.\n",
    "    \n",
    "\n",
    "class Cat(Mammal):\n",
    "    def mew(self):\n",
    "        print(\"MEW\")"
   ]
  },
  {
   "cell_type": "code",
   "execution_count": 20,
   "id": "9076ea9f-c43a-499c-bf89-f0ddc4370d11",
   "metadata": {},
   "outputs": [],
   "source": [
    "cat1 = Cat()"
   ]
  },
  {
   "cell_type": "code",
   "execution_count": 21,
   "id": "0ce7e8fa-4518-4a4c-8323-f157296889ea",
   "metadata": {},
   "outputs": [
    {
     "name": "stdout",
     "output_type": "stream",
     "text": [
      "MEW\n"
     ]
    }
   ],
   "source": [
    "cat1.mew()"
   ]
  },
  {
   "cell_type": "code",
   "execution_count": 22,
   "id": "2af7f978-f722-43c4-a945-e6361603129d",
   "metadata": {},
   "outputs": [],
   "source": [
    "dog2 = Dog()"
   ]
  },
  {
   "cell_type": "code",
   "execution_count": 24,
   "id": "f5750af9-749d-47ca-adbe-a0c62935565e",
   "metadata": {},
   "outputs": [
    {
     "name": "stdout",
     "output_type": "stream",
     "text": [
      "SoundHere\n"
     ]
    }
   ],
   "source": [
    "dog2.sound()"
   ]
  },
  {
   "cell_type": "code",
   "execution_count": null,
   "id": "ee5cf715-0529-4684-baf6-a0968ab0b595",
   "metadata": {},
   "outputs": [],
   "source": []
  }
 ],
 "metadata": {
  "kernelspec": {
   "display_name": "Python 3 (ipykernel)",
   "language": "python",
   "name": "python3"
  },
  "language_info": {
   "codemirror_mode": {
    "name": "ipython",
    "version": 3
   },
   "file_extension": ".py",
   "mimetype": "text/x-python",
   "name": "python",
   "nbconvert_exporter": "python",
   "pygments_lexer": "ipython3",
   "version": "3.9.7"
  }
 },
 "nbformat": 4,
 "nbformat_minor": 5
}
