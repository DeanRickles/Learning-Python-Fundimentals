{
 "cells": [
  {
   "cell_type": "code",
   "execution_count": 5,
   "id": "0c061ce9-d9d7-4bc7-b741-83ace30ec94e",
   "metadata": {},
   "outputs": [
    {
     "name": "stdout",
     "output_type": "stream",
     "text": [
      "1\n",
      "2\n",
      "3\n",
      "4\n",
      "5\n",
      "Done\n"
     ]
    }
   ],
   "source": [
    "i = 1 # creates variable\n",
    "while i <= 5: # loop until i is greater or equal to 5\n",
    "    print(i) # print i\n",
    "    i += 1 # increase i by 1\n",
    "print(\"Done\") # print done when finished."
   ]
  },
  {
   "cell_type": "code",
   "execution_count": 6,
   "id": "7bd7cc61-beff-48ad-a6cd-063b548fbc16",
   "metadata": {},
   "outputs": [
    {
     "name": "stdout",
     "output_type": "stream",
     "text": [
      "*\n",
      "**\n",
      "***\n",
      "****\n",
      "*****\n",
      "Done\n"
     ]
    }
   ],
   "source": [
    "i = 1 # creates variable\n",
    "while i <= 5: # loop until i is greater or equal to 5\n",
    "    print('*'* i) # print * by i\n",
    "    i += 1 # increase i by 1\n",
    "print(\"Done\") # print done when finished."
   ]
  },
  {
   "cell_type": "code",
   "execution_count": 11,
   "id": "3a9298b4-91a6-4a0a-bfa3-451fd7c11aa1",
   "metadata": {},
   "outputs": [
    {
     "name": "stdin",
     "output_type": "stream",
     "text": [
      "Guess: 1\n",
      "Guess: 1\n",
      "Guess: 2\n"
     ]
    },
    {
     "name": "stdout",
     "output_type": "stream",
     "text": [
      "You lose!\n"
     ]
    }
   ],
   "source": [
    "# Guessing Game\n",
    "\n",
    "secret_number = 9 # secret number for guess.\n",
    "GuessCount = 0 # GuessCount used to count chances.\n",
    "GuessLimit = 3 # Number of guesses allowed.\n",
    "while GuessCount < GuessLimit:\n",
    "    guess = int(input('Guess:'))\n",
    "    GuessCount += 1\n",
    "    if guess == secret_number:\n",
    "        print('you won!')\n",
    "        break # terminates loop.\n",
    "else: # else statement if loop completes.\n",
    "    print('You lose!')"
   ]
  },
  {
   "cell_type": "code",
   "execution_count": null,
   "id": "a7718c69-bf18-49dc-8e88-857d84d43181",
   "metadata": {},
   "outputs": [],
   "source": []
  }
 ],
 "metadata": {
  "kernelspec": {
   "display_name": "Python 3 (ipykernel)",
   "language": "python",
   "name": "python3"
  },
  "language_info": {
   "codemirror_mode": {
    "name": "ipython",
    "version": 3
   },
   "file_extension": ".py",
   "mimetype": "text/x-python",
   "name": "python",
   "nbconvert_exporter": "python",
   "pygments_lexer": "ipython3",
   "version": "3.9.7"
  }
 },
 "nbformat": 4,
 "nbformat_minor": 5
}
