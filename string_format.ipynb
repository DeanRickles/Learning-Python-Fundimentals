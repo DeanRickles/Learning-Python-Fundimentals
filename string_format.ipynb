{
 "cells": [
  {
   "cell_type": "code",
   "execution_count": 6,
   "id": "b10c497c-2bd8-4d0f-9ae7-8e3e50898829",
   "metadata": {},
   "outputs": [],
   "source": [
    "first = 'John'\n",
    "last = 'Smith'"
   ]
  },
  {
   "cell_type": "code",
   "execution_count": 7,
   "id": "00ace7bf-59dc-485c-a8ea-274d779a2bfb",
   "metadata": {},
   "outputs": [
    {
     "name": "stdout",
     "output_type": "stream",
     "text": [
      "John [Smith] is a coder\n"
     ]
    }
   ],
   "source": [
    "message = first + ' [' + last + '] is a coder'\n",
    "print(message)"
   ]
  },
  {
   "cell_type": "code",
   "execution_count": 8,
   "id": "5f332e45-8b9d-49bf-b28a-6e068ff142e6",
   "metadata": {},
   "outputs": [
    {
     "name": "stdout",
     "output_type": "stream",
     "text": [
      "John [Smith] is a coder\n"
     ]
    }
   ],
   "source": [
    "# format string.\n",
    "msg = f'{first} [{last}] is a coder'\n",
    "print(msg)"
   ]
  }
 ],
 "metadata": {
  "kernelspec": {
   "display_name": "Python 3 (ipykernel)",
   "language": "python",
   "name": "python3"
  },
  "language_info": {
   "codemirror_mode": {
    "name": "ipython",
    "version": 3
   },
   "file_extension": ".py",
   "mimetype": "text/x-python",
   "name": "python",
   "nbconvert_exporter": "python",
   "pygments_lexer": "ipython3",
   "version": "3.9.7"
  }
 },
 "nbformat": 4,
 "nbformat_minor": 5
}
