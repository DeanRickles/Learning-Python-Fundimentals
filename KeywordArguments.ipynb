{
 "cells": [
  {
   "cell_type": "code",
   "execution_count": 1,
   "id": "ffd46848-1199-41dc-a894-b28fc048a33e",
   "metadata": {},
   "outputs": [],
   "source": [
    "def greet_user(first_name, last_name):\n",
    "    print(f'Hi {first_name} {last_name}')\n",
    "    print('Welcome aboard')\n"
   ]
  },
  {
   "cell_type": "code",
   "execution_count": 2,
   "id": "e1a0e0b1-ea55-4aa8-87d2-b189a43e69b2",
   "metadata": {},
   "outputs": [
    {
     "name": "stdout",
     "output_type": "stream",
     "text": [
      "Hi John Smith\n",
      "Welcome aboard\n"
     ]
    }
   ],
   "source": [
    "# Posistional Arguments.\n",
    "greet_user(\"John\", \"Smith\")"
   ]
  },
  {
   "cell_type": "code",
   "execution_count": 3,
   "id": "a07458d2-6e24-4ef3-94bb-60a1b86b931a",
   "metadata": {},
   "outputs": [
    {
     "name": "stdout",
     "output_type": "stream",
     "text": [
      "Hi john smith\n",
      "Welcome aboard\n"
     ]
    }
   ],
   "source": [
    "# Keyword Arguments.\n",
    "greet_user(last_name='smith',first_name='john')"
   ]
  },
  {
   "cell_type": "code",
   "execution_count": 4,
   "id": "9c0bc79c-6b4a-4212-9b71-5acea944b637",
   "metadata": {},
   "outputs": [
    {
     "name": "stdout",
     "output_type": "stream",
     "text": [
      "Hi john Smith\n",
      "Welcome aboard\n"
     ]
    }
   ],
   "source": [
    "# only use keyword after posisional, not before.\n",
    "greet_user('john',last_name='Smith')"
   ]
  },
  {
   "cell_type": "code",
   "execution_count": 6,
   "id": "69c31a06-e69f-4226-9e79-bab752e575bd",
   "metadata": {},
   "outputs": [
    {
     "ename": "SyntaxError",
     "evalue": "positional argument follows keyword argument (3450867599.py, line 1)",
     "output_type": "error",
     "traceback": [
      "\u001b[0;36m  File \u001b[0;32m\"/tmp/ipykernel_654/3450867599.py\"\u001b[0;36m, line \u001b[0;32m1\u001b[0m\n\u001b[0;31m    greet_user(first_name='john','smith')\u001b[0m\n\u001b[0m                                        ^\u001b[0m\n\u001b[0;31mSyntaxError\u001b[0m\u001b[0;31m:\u001b[0m positional argument follows keyword argument\n"
     ]
    }
   ],
   "source": [
    "greet_user(first_name='john','smith')"
   ]
  },
  {
   "cell_type": "code",
   "execution_count": null,
   "id": "ca66655e-60a9-4325-b94c-fdb268fb9153",
   "metadata": {},
   "outputs": [],
   "source": []
  }
 ],
 "metadata": {
  "kernelspec": {
   "display_name": "Python 3 (ipykernel)",
   "language": "python",
   "name": "python3"
  },
  "language_info": {
   "codemirror_mode": {
    "name": "ipython",
    "version": 3
   },
   "file_extension": ".py",
   "mimetype": "text/x-python",
   "name": "python",
   "nbconvert_exporter": "python",
   "pygments_lexer": "ipython3",
   "version": "3.9.7"
  }
 },
 "nbformat": 4,
 "nbformat_minor": 5
}
