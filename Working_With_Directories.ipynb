{
 "cells": [
  {
   "cell_type": "code",
   "execution_count": 1,
   "id": "5d6b9696-3066-4ed2-99a9-e45cd106ec58",
   "metadata": {},
   "outputs": [],
   "source": [
    "from pathlib import Path"
   ]
  },
  {
   "cell_type": "code",
   "execution_count": 2,
   "id": "400c8366-e026-4ea6-8e4a-5f711e9f6e4a",
   "metadata": {},
   "outputs": [],
   "source": [
    "p = Path"
   ]
  },
  {
   "cell_type": "code",
   "execution_count": 4,
   "id": "11345a39-32df-47cc-be90-365c45b487c5",
   "metadata": {},
   "outputs": [
    {
     "data": {
      "text/plain": [
       "PosixPath('/root')"
      ]
     },
     "execution_count": 4,
     "metadata": {},
     "output_type": "execute_result"
    }
   ],
   "source": [
    "p.home()"
   ]
  },
  {
   "cell_type": "code",
   "execution_count": 8,
   "id": "1ef5b90d-7db4-4071-846b-fcb612a9bb3c",
   "metadata": {},
   "outputs": [
    {
     "ename": "SyntaxError",
     "evalue": "unexpected character after line continuation character (1869642462.py, line 2)",
     "output_type": "error",
     "traceback": [
      "\u001b[0;36m  File \u001b[0;32m\"/tmp/ipykernel_1257/1869642462.py\"\u001b[0;36m, line \u001b[0;32m2\u001b[0m\n\u001b[0;31m    p.absolute(Example\\ Packages)\u001b[0m\n\u001b[0m                                ^\u001b[0m\n\u001b[0;31mSyntaxError\u001b[0m\u001b[0;31m:\u001b[0m unexpected character after line continuation character\n"
     ]
    }
   ],
   "source": [
    "# start from current directory/\n",
    "p.absolute(Example\\ Packages)"
   ]
  },
  {
   "cell_type": "code",
   "execution_count": 12,
   "id": "0acb2601-cb8b-482b-b89d-504e1e9001a1",
   "metadata": {},
   "outputs": [],
   "source": [
    "# creating a path dir\n",
    "Path(\"emails\").mkdir()"
   ]
  },
  {
   "cell_type": "code",
   "execution_count": 14,
   "id": "e44ce4b2-a6ee-4942-8c3c-c0b5ca782c63",
   "metadata": {},
   "outputs": [],
   "source": [
    "# remove a path dir\n",
    "Path(\"emails\").rmdir()"
   ]
  },
  {
   "cell_type": "code",
   "execution_count": 21,
   "id": "bc50fa9d-c347-4bac-9f06-dfb26e74a3f8",
   "metadata": {},
   "outputs": [
    {
     "name": "stdout",
     "output_type": "stream",
     "text": [
      "Example Packages/ecommerce/__init__.py\n",
      "Example Packages/ecommerce/shipping.py\n"
     ]
    }
   ],
   "source": [
    "# search for files/dir\n",
    "path = Path('Example Packages/ecommerce')\n",
    "for file in path.glob('*.py'):\n",
    "    print(file)"
   ]
  },
  {
   "cell_type": "code",
   "execution_count": null,
   "id": "5868a4fe-4abb-460c-812e-b22e3eb92741",
   "metadata": {},
   "outputs": [],
   "source": []
  }
 ],
 "metadata": {
  "kernelspec": {
   "display_name": "Python 3 (ipykernel)",
   "language": "python",
   "name": "python3"
  },
  "language_info": {
   "codemirror_mode": {
    "name": "ipython",
    "version": 3
   },
   "file_extension": ".py",
   "mimetype": "text/x-python",
   "name": "python",
   "nbconvert_exporter": "python",
   "pygments_lexer": "ipython3",
   "version": "3.9.7"
  }
 },
 "nbformat": 4,
 "nbformat_minor": 5
}
