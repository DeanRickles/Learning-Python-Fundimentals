{
 "cells": [
  {
   "cell_type": "code",
   "execution_count": 10,
   "id": "b92d33e8-b39a-45b3-b95c-2da738e1908d",
   "metadata": {
    "collapsed": true,
    "jupyter": {
     "outputs_hidden": true
    },
    "tags": []
   },
   "outputs": [
    {
     "data": {
      "text/plain": [
       "'\\n    Package is a container for multipule modules.\\n'"
      ]
     },
     "execution_count": 10,
     "metadata": {},
     "output_type": "execute_result"
    }
   ],
   "source": [
    "'''\n",
    "    Package is a container for multipule modules.\n",
    "    \n",
    "    It's created using a folder. \n",
    "    Within the folder there needs to be a __inif__py file.\n",
    "    \n",
    "    -FOLDER\n",
    "        |-__init__.py\n",
    "        |-module1.py\n",
    "        |-module2.py\n",
    "        |-module3.py\n",
    "'''"
   ]
  },
  {
   "cell_type": "code",
   "execution_count": null,
   "id": "ef79cdad-2cf3-4990-a75b-613772194ead",
   "metadata": {},
   "outputs": [],
   "source": [
    "'''\n",
    "    importing all modules in the package\n",
    "'''"
   ]
  },
  {
   "cell_type": "code",
   "execution_count": 9,
   "id": "86ec4241-187f-4a72-b004-a698a7af153c",
   "metadata": {},
   "outputs": [],
   "source": [
    "import ecommerce"
   ]
  },
  {
   "cell_type": "code",
   "execution_count": 10,
   "id": "727a5e43-c0fd-4d49-bdca-c17ab5773278",
   "metadata": {},
   "outputs": [
    {
     "name": "stdout",
     "output_type": "stream",
     "text": [
      "calc_shipping\n"
     ]
    }
   ],
   "source": [
    "ecommerce.shipping.calc_shipping()"
   ]
  },
  {
   "cell_type": "code",
   "execution_count": 13,
   "id": "166412b9-ad15-40f6-9ded-5a3b4db87000",
   "metadata": {},
   "outputs": [
    {
     "data": {
      "text/plain": [
       "'\\n    Importing a module of a package\\n'"
      ]
     },
     "execution_count": 13,
     "metadata": {},
     "output_type": "execute_result"
    }
   ],
   "source": [
    "'''\n",
    "    Importing a module of a package\n",
    "'''"
   ]
  },
  {
   "cell_type": "code",
   "execution_count": 11,
   "id": "58d7c7f9-5f98-4581-a5d2-9bf98af9616f",
   "metadata": {},
   "outputs": [],
   "source": [
    "from ecommerce import shipping"
   ]
  },
  {
   "cell_type": "code",
   "execution_count": 12,
   "id": "31f68d01-1a67-43ed-bc15-4c476b84408e",
   "metadata": {},
   "outputs": [
    {
     "name": "stdout",
     "output_type": "stream",
     "text": [
      "calc_shipping\n"
     ]
    }
   ],
   "source": [
    "shipping.calc_shipping()"
   ]
  }
 ],
 "metadata": {
  "kernelspec": {
   "display_name": "Python 3 (ipykernel)",
   "language": "python",
   "name": "python3"
  },
  "language_info": {
   "codemirror_mode": {
    "name": "ipython",
    "version": 3
   },
   "file_extension": ".py",
   "mimetype": "text/x-python",
   "name": "python",
   "nbconvert_exporter": "python",
   "pygments_lexer": "ipython3",
   "version": "3.9.7"
  }
 },
 "nbformat": 4,
 "nbformat_minor": 5
}
