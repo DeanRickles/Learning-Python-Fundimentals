{
 "cells": [
  {
   "cell_type": "code",
   "execution_count": 1,
   "id": "bb5cf100-7332-44c6-90be-59f3b4552a32",
   "metadata": {},
   "outputs": [
    {
     "data": {
      "text/plain": [
       "'\\n# Modules\\ndef lbs_to_kg(weight):\\n    return weight * 0.45\\n\\ndef kg_to_lbs(weight):\\n    return weight / 0.45\\n'"
      ]
     },
     "execution_count": 1,
     "metadata": {},
     "output_type": "execute_result"
    }
   ],
   "source": [
    "'''\n",
    "# Modules\n",
    "def lbs_to_kg(weight):\n",
    "    return weight * 0.45\n",
    "\n",
    "def kg_to_lbs(weight):\n",
    "    return weight / 0.45\n",
    "    \n",
    "exported into ./converters.py    \n",
    "'''"
   ]
  },
  {
   "cell_type": "code",
   "execution_count": 14,
   "id": "55a1b626-82e6-4aad-b5f6-91c253a5bbf4",
   "metadata": {},
   "outputs": [
    {
     "name": "stdout",
     "output_type": "stream",
     "text": [
      "155.55555555555554\n",
      "18.0\n"
     ]
    }
   ],
   "source": [
    "# import the full module.\n",
    "import converters\n",
    "\n",
    "print(converters.kg_to_lbs(70))\n",
    "print(converters.lbs_to_kg(40))"
   ]
  },
  {
   "cell_type": "code",
   "execution_count": 15,
   "id": "e9cbba7e-28bf-40db-91b9-ba56a2e4af31",
   "metadata": {},
   "outputs": [
    {
     "name": "stdout",
     "output_type": "stream",
     "text": [
      "222.22222222222223\n"
     ]
    }
   ],
   "source": [
    "# Import part of a module.\n",
    "from converters import kg_to_lbs\n",
    "\n",
    "print(kg_to_lbs(100))"
   ]
  },
  {
   "cell_type": "code",
   "execution_count": 16,
   "id": "20ba4c83-a866-4d61-8ed5-a6644ad6a7f4",
   "metadata": {},
   "outputs": [
    {
     "name": "stdout",
     "output_type": "stream",
     "text": [
      "67.5\n"
     ]
    }
   ],
   "source": [
    "# Can set a Module by a different name.\n",
    "from converters import lbs_to_kg as lbs\n",
    "\n",
    "print(lbs(150))"
   ]
  }
 ],
 "metadata": {
  "kernelspec": {
   "display_name": "Python 3 (ipykernel)",
   "language": "python",
   "name": "python3"
  },
  "language_info": {
   "codemirror_mode": {
    "name": "ipython",
    "version": 3
   },
   "file_extension": ".py",
   "mimetype": "text/x-python",
   "name": "python",
   "nbconvert_exporter": "python",
   "pygments_lexer": "ipython3",
   "version": "3.9.7"
  }
 },
 "nbformat": 4,
 "nbformat_minor": 5
}
